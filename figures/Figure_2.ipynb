{
  "cells": [
    {
      "cell_type": "markdown",
      "id": "a292371f",
      "metadata": {
        "id": "a292371f"
      },
      "source": [
        "# Imports"
      ]
    },
    {
      "cell_type": "code",
      "execution_count": null,
      "id": "99562c2c",
      "metadata": {
        "id": "99562c2c"
      },
      "outputs": [],
      "source": [
        "import os\n",
        "import numpy as np\n",
        "import pandas as pd\n",
        "import seaborn as sb\n",
        "import pingouin as pg\n",
        "from scipy import stats\n",
        "from matplotlib import pyplot as plt\n",
        "from sklearn.linear_model import LinearRegression\n",
        "from scipy.stats import shapiro, kstest, normaltest\n",
        "\n",
        "import pandas as pd\n",
        "import scipy.stats as stats\n",
        "import pandas as pd\n",
        "import scikit_posthocs as sp"
      ]
    },
    {
      "cell_type": "markdown",
      "id": "5eb1a3fe",
      "metadata": {
        "id": "5eb1a3fe"
      },
      "source": [
        "# Load and organize data"
      ]
    },
    {
      "cell_type": "code",
      "execution_count": null,
      "id": "5188d325",
      "metadata": {
        "id": "5188d325",
        "outputId": "451c529e-9afa-43d7-8a44-77dba5bf9476"
      },
      "outputs": [
        {
          "data": {
            "text/html": [
              "<div>\n",
              "<style scoped>\n",
              "    .dataframe tbody tr th:only-of-type {\n",
              "        vertical-align: middle;\n",
              "    }\n",
              "\n",
              "    .dataframe tbody tr th {\n",
              "        vertical-align: top;\n",
              "    }\n",
              "\n",
              "    .dataframe thead th {\n",
              "        text-align: right;\n",
              "    }\n",
              "</style>\n",
              "<table border=\"1\" class=\"dataframe\">\n",
              "  <thead>\n",
              "    <tr style=\"text-align: right;\">\n",
              "      <th></th>\n",
              "      <th>Unnamed: 0</th>\n",
              "      <th>Schema-network-Schema-attn</th>\n",
              "      <th>Schema-network-Control-attn</th>\n",
              "      <th>Control-network-Schema-attn</th>\n",
              "      <th>Control-network-Control-attn</th>\n",
              "    </tr>\n",
              "  </thead>\n",
              "  <tbody>\n",
              "    <tr>\n",
              "      <th>0</th>\n",
              "      <td>0</td>\n",
              "      <td>70.394737</td>\n",
              "      <td>55.921053</td>\n",
              "      <td>53.289474</td>\n",
              "      <td>46.052632</td>\n",
              "    </tr>\n",
              "    <tr>\n",
              "      <th>1</th>\n",
              "      <td>1</td>\n",
              "      <td>89.473684</td>\n",
              "      <td>57.236842</td>\n",
              "      <td>80.263158</td>\n",
              "      <td>46.052632</td>\n",
              "    </tr>\n",
              "    <tr>\n",
              "      <th>2</th>\n",
              "      <td>2</td>\n",
              "      <td>86.842105</td>\n",
              "      <td>53.289474</td>\n",
              "      <td>69.736842</td>\n",
              "      <td>47.368421</td>\n",
              "    </tr>\n",
              "  </tbody>\n",
              "</table>\n",
              "</div>"
            ],
            "text/plain": [
              "   Unnamed: 0  Schema-network-Schema-attn  Schema-network-Control-attn  \\\n",
              "0           0                   70.394737                    55.921053   \n",
              "1           1                   89.473684                    57.236842   \n",
              "2           2                   86.842105                    53.289474   \n",
              "\n",
              "   Control-network-Schema-attn  Control-network-Control-attn  \n",
              "0                    53.289474                     46.052632  \n",
              "1                    80.263158                     46.052632  \n",
              "2                    69.736842                     47.368421  "
            ]
          },
          "execution_count": 2,
          "metadata": {},
          "output_type": "execute_result"
        }
      ],
      "source": [
        "# read data\n",
        "\n",
        "data = pd.read_csv('../csv/fig2_attentionclassification.csv')\n",
        "data.head(n=3)"
      ]
    },
    {
      "cell_type": "code",
      "execution_count": null,
      "id": "6b225544",
      "metadata": {
        "id": "6b225544",
        "outputId": "2c4257cc-3ae6-45fd-f062-4d8d9d87a4f7"
      },
      "outputs": [
        {
          "data": {
            "text/html": [
              "<div>\n",
              "<style scoped>\n",
              "    .dataframe tbody tr th:only-of-type {\n",
              "        vertical-align: middle;\n",
              "    }\n",
              "\n",
              "    .dataframe tbody tr th {\n",
              "        vertical-align: top;\n",
              "    }\n",
              "\n",
              "    .dataframe thead th {\n",
              "        text-align: right;\n",
              "    }\n",
              "</style>\n",
              "<table border=\"1\" class=\"dataframe\">\n",
              "  <thead>\n",
              "    <tr style=\"text-align: right;\">\n",
              "      <th></th>\n",
              "      <th>level_1</th>\n",
              "      <th>0</th>\n",
              "      <th>Network pair</th>\n",
              "      <th>Discrimination accuracy</th>\n",
              "    </tr>\n",
              "  </thead>\n",
              "  <tbody>\n",
              "    <tr>\n",
              "      <th>0</th>\n",
              "      <td>Schema-network-Schema-attn</td>\n",
              "      <td>70.394737</td>\n",
              "      <td>Schema-network-Schema-attn</td>\n",
              "      <td>70.394737</td>\n",
              "    </tr>\n",
              "    <tr>\n",
              "      <th>1</th>\n",
              "      <td>Schema-network-Control-attn</td>\n",
              "      <td>55.921053</td>\n",
              "      <td>Schema-network-Control-attn</td>\n",
              "      <td>55.921053</td>\n",
              "    </tr>\n",
              "    <tr>\n",
              "      <th>2</th>\n",
              "      <td>Control-network-Schema-attn</td>\n",
              "      <td>53.289474</td>\n",
              "      <td>Control-network-Schema-attn</td>\n",
              "      <td>53.289474</td>\n",
              "    </tr>\n",
              "  </tbody>\n",
              "</table>\n",
              "</div>"
            ],
            "text/plain": [
              "                       level_1          0                 Network pair  \\\n",
              "0   Schema-network-Schema-attn  70.394737   Schema-network-Schema-attn   \n",
              "1  Schema-network-Control-attn  55.921053  Schema-network-Control-attn   \n",
              "2  Control-network-Schema-attn  53.289474  Control-network-Schema-attn   \n",
              "\n",
              "   Discrimination accuracy  \n",
              "0                70.394737  \n",
              "1                55.921053  \n",
              "2                53.289474  "
            ]
          },
          "execution_count": 4,
          "metadata": {},
          "output_type": "execute_result"
        }
      ],
      "source": [
        "d = pd.DataFrame(data[['Schema-network-Schema-attn','Schema-network-Control-attn',\n",
        "                  'Control-network-Schema-attn','Control-network-Control-attn']].stack())\n",
        "\n",
        "plot_d = d.reset_index()[['level_1',0]]\n",
        "plot_d['Network pair'] = plot_d['level_1']\n",
        "plot_d['Discrimination accuracy'] = plot_d[0]\n",
        "\n",
        "plot_d.head(n=3)"
      ]
    },
    {
      "cell_type": "code",
      "execution_count": null,
      "id": "9104f59b",
      "metadata": {
        "id": "9104f59b",
        "outputId": "30807207-3ccb-49d1-d6b0-15cb0a44cf62"
      },
      "outputs": [
        {
          "data": {
            "text/html": [
              "<div>\n",
              "<style scoped>\n",
              "    .dataframe tbody tr th:only-of-type {\n",
              "        vertical-align: middle;\n",
              "    }\n",
              "\n",
              "    .dataframe tbody tr th {\n",
              "        vertical-align: top;\n",
              "    }\n",
              "\n",
              "    .dataframe thead th {\n",
              "        text-align: right;\n",
              "    }\n",
              "</style>\n",
              "<table border=\"1\" class=\"dataframe\">\n",
              "  <thead>\n",
              "    <tr style=\"text-align: right;\">\n",
              "      <th></th>\n",
              "      <th>Network pair</th>\n",
              "      <th>Discrimination accuracy</th>\n",
              "    </tr>\n",
              "  </thead>\n",
              "  <tbody>\n",
              "    <tr>\n",
              "      <th>0</th>\n",
              "      <td>Control-network-Control-attn</td>\n",
              "      <td>52.777778</td>\n",
              "    </tr>\n",
              "    <tr>\n",
              "      <th>1</th>\n",
              "      <td>Control-network-Schema-attn</td>\n",
              "      <td>70.614035</td>\n",
              "    </tr>\n",
              "    <tr>\n",
              "      <th>2</th>\n",
              "      <td>Schema-network-Control-attn</td>\n",
              "      <td>54.580897</td>\n",
              "    </tr>\n",
              "    <tr>\n",
              "      <th>3</th>\n",
              "      <td>Schema-network-Schema-attn</td>\n",
              "      <td>80.872320</td>\n",
              "    </tr>\n",
              "  </tbody>\n",
              "</table>\n",
              "</div>"
            ],
            "text/plain": [
              "                   Network pair  Discrimination accuracy\n",
              "0  Control-network-Control-attn                52.777778\n",
              "1   Control-network-Schema-attn                70.614035\n",
              "2   Schema-network-Control-attn                54.580897\n",
              "3    Schema-network-Schema-attn                80.872320"
            ]
          },
          "execution_count": 5,
          "metadata": {},
          "output_type": "execute_result"
        }
      ],
      "source": [
        "means = pd.DataFrame(plot_d.groupby('Network pair',as_index=False)['Discrimination accuracy'].mean())\n",
        "means"
      ]
    },
    {
      "cell_type": "code",
      "execution_count": null,
      "id": "75bce0f1",
      "metadata": {
        "id": "75bce0f1",
        "outputId": "3a61c78c-4c80-46fe-9716-2fea00c970f0"
      },
      "outputs": [
        {
          "data": {
            "text/html": [
              "<div>\n",
              "<style scoped>\n",
              "    .dataframe tbody tr th:only-of-type {\n",
              "        vertical-align: middle;\n",
              "    }\n",
              "\n",
              "    .dataframe tbody tr th {\n",
              "        vertical-align: top;\n",
              "    }\n",
              "\n",
              "    .dataframe thead th {\n",
              "        text-align: right;\n",
              "    }\n",
              "</style>\n",
              "<table border=\"1\" class=\"dataframe\">\n",
              "  <thead>\n",
              "    <tr style=\"text-align: right;\">\n",
              "      <th></th>\n",
              "      <th>level_1</th>\n",
              "      <th>0</th>\n",
              "      <th>Network pair</th>\n",
              "      <th>Discrimination accuracy</th>\n",
              "      <th>attention_net</th>\n",
              "      <th>discrimination_net</th>\n",
              "    </tr>\n",
              "  </thead>\n",
              "  <tbody>\n",
              "    <tr>\n",
              "      <th>0</th>\n",
              "      <td>Schema-network-Schema-attn</td>\n",
              "      <td>70.394737</td>\n",
              "      <td>Schema-network-Schema-attn</td>\n",
              "      <td>70.394737</td>\n",
              "      <td>Schema</td>\n",
              "      <td>Schema</td>\n",
              "    </tr>\n",
              "    <tr>\n",
              "      <th>1</th>\n",
              "      <td>Schema-network-Control-attn</td>\n",
              "      <td>55.921053</td>\n",
              "      <td>Schema-network-Control-attn</td>\n",
              "      <td>55.921053</td>\n",
              "      <td>Control</td>\n",
              "      <td>Schema</td>\n",
              "    </tr>\n",
              "    <tr>\n",
              "      <th>2</th>\n",
              "      <td>Control-network-Schema-attn</td>\n",
              "      <td>53.289474</td>\n",
              "      <td>Control-network-Schema-attn</td>\n",
              "      <td>53.289474</td>\n",
              "      <td>Schema</td>\n",
              "      <td>Control</td>\n",
              "    </tr>\n",
              "    <tr>\n",
              "      <th>3</th>\n",
              "      <td>Control-network-Control-attn</td>\n",
              "      <td>46.052632</td>\n",
              "      <td>Control-network-Control-attn</td>\n",
              "      <td>46.052632</td>\n",
              "      <td>Control</td>\n",
              "      <td>Control</td>\n",
              "    </tr>\n",
              "    <tr>\n",
              "      <th>4</th>\n",
              "      <td>Schema-network-Schema-attn</td>\n",
              "      <td>89.473684</td>\n",
              "      <td>Schema-network-Schema-attn</td>\n",
              "      <td>89.473684</td>\n",
              "      <td>Schema</td>\n",
              "      <td>Schema</td>\n",
              "    </tr>\n",
              "  </tbody>\n",
              "</table>\n",
              "</div>"
            ],
            "text/plain": [
              "                        level_1          0                  Network pair  \\\n",
              "0    Schema-network-Schema-attn  70.394737    Schema-network-Schema-attn   \n",
              "1   Schema-network-Control-attn  55.921053   Schema-network-Control-attn   \n",
              "2   Control-network-Schema-attn  53.289474   Control-network-Schema-attn   \n",
              "3  Control-network-Control-attn  46.052632  Control-network-Control-attn   \n",
              "4    Schema-network-Schema-attn  89.473684    Schema-network-Schema-attn   \n",
              "\n",
              "   Discrimination accuracy attention_net discrimination_net  \n",
              "0                70.394737        Schema             Schema  \n",
              "1                55.921053       Control             Schema  \n",
              "2                53.289474        Schema            Control  \n",
              "3                46.052632       Control            Control  \n",
              "4                89.473684        Schema             Schema  "
            ]
          },
          "execution_count": 6,
          "metadata": {},
          "output_type": "execute_result"
        }
      ],
      "source": [
        "plot_d['attention_net']      = np.nan\n",
        "plot_d['discrimination_net'] = np.nan\n",
        "\n",
        "plot_d.loc[plot_d['level_1'].isin(['Schema-network-Schema-attn',\n",
        "                                   'Schema-network-Control-attn']), 'discrimination_net']='Schema'\n",
        "\n",
        "plot_d.loc[plot_d['level_1'].isin(['Control-network-Schema-attn',\n",
        "                                   'Control-network-Control-attn']), 'discrimination_net']='Control'\n",
        "\n",
        "plot_d.loc[plot_d['level_1'].isin(['Schema-network-Schema-attn',\n",
        "                                   'Control-network-Schema-attn']), 'attention_net']='Schema'\n",
        "\n",
        "plot_d.loc[plot_d['level_1'].isin(['Schema-network-Control-attn',\n",
        "                                   'Control-network-Control-attn']), 'attention_net']='Control'\n",
        "\n",
        "plot_d.head(n=5)"
      ]
    },
    {
      "cell_type": "markdown",
      "id": "df67d763",
      "metadata": {
        "id": "df67d763"
      },
      "source": [
        "# Plot the data"
      ]
    },
    {
      "cell_type": "code",
      "execution_count": null,
      "id": "22e9a1e3",
      "metadata": {
        "id": "22e9a1e3"
      },
      "outputs": [],
      "source": [
        "plot_d['Network pair']\n",
        "\n",
        "order = [\n",
        "    'Schema-network-Schema-attn' , 'Control-network-Schema-attn',\n",
        "    'Schema-network-Control-attn', 'Control-network-Control-attn'\n",
        "        ]"
      ]
    },
    {
      "cell_type": "code",
      "execution_count": null,
      "id": "00201003",
      "metadata": {
        "id": "00201003",
        "outputId": "5e106992-1508-4ca1-dd0c-bbb93e235b5c"
      },
      "outputs": [
        {
          "name": "stderr",
          "output_type": "stream",
          "text": [
            "/var/folders/93/wc556zmn0vl9gns07tz1_8x80000gn/T/ipykernel_36356/2110597793.py:4: FutureWarning: \n",
            "\n",
            "Passing `palette` without assigning `hue` is deprecated and will be removed in v0.14.0. Assign the `x` variable to `hue` and set `legend=False` for the same effect.\n",
            "\n",
            "  ax = sb.violinplot(x='Network pair', y='Discrimination accuracy', data=plot_d, order=order, palette='Greens_r')\n"
          ]
        },
        {
          "data": {
            "image/png": "[encoded data removed]",
            "text/plain": [
              "<Figure size 640x480 with 1 Axes>"
            ]
          },
          "metadata": {},
          "output_type": "display_data"
        }
      ],
      "source": [
        "sb.set(font_scale=2)\n",
        "sb.set_style('white')\n",
        "\n",
        "ax = sb.violinplot(x='Network pair', y='Discrimination accuracy', data=plot_d, order=order, palette='Greens_r')\n",
        "ax.set_yticks([50, 75, 100])\n",
        "\n",
        "median_list = []\n",
        "for o in order:\n",
        "    median_list.append(plot_d[plot_d['Network pair']==o]['Discrimination accuracy'].median())\n",
        "\n",
        "ax2 = sb.swarmplot(x=order, y=median_list, size=9, color='white', edgecolor=\"black\", linewidth=2)\n",
        "ax2.set_yticks([50, 75, 100])\n",
        "\n",
        "ax.hlines(y=50,xmin=-.5, xmax=3.7, linestyle='--', color='k', linewidth=2)\n",
        "\n",
        "ax.set_title('Experimental result')\n",
        "\n",
        "plt.xticks(rotation=90)\n",
        "\n",
        "plt.savefig('../figures/Fig2b.pdf',bbox_inches='tight')"
      ]
    },
    {
      "cell_type": "markdown",
      "id": "8fe2f6dd",
      "metadata": {
        "id": "8fe2f6dd"
      },
      "source": [
        "## ANOVA (discrimination_net x attention_net)"
      ]
    },
    {
      "cell_type": "code",
      "execution_count": null,
      "id": "e586dfbc",
      "metadata": {
        "id": "e586dfbc",
        "outputId": "ef669db5-43aa-47f3-8b4a-f0753d5b961d"
      },
      "outputs": [
        {
          "data": {
            "text/html": [
              "<div>\n",
              "<style scoped>\n",
              "    .dataframe tbody tr th:only-of-type {\n",
              "        vertical-align: middle;\n",
              "    }\n",
              "\n",
              "    .dataframe tbody tr th {\n",
              "        vertical-align: top;\n",
              "    }\n",
              "\n",
              "    .dataframe thead th {\n",
              "        text-align: right;\n",
              "    }\n",
              "</style>\n",
              "<table border=\"1\" class=\"dataframe\">\n",
              "  <thead>\n",
              "    <tr style=\"text-align: right;\">\n",
              "      <th></th>\n",
              "      <th>Source</th>\n",
              "      <th>SS</th>\n",
              "      <th>DF</th>\n",
              "      <th>MS</th>\n",
              "      <th>F</th>\n",
              "      <th>p-unc</th>\n",
              "      <th>np2</th>\n",
              "    </tr>\n",
              "  </thead>\n",
              "  <tbody>\n",
              "    <tr>\n",
              "      <th>0</th>\n",
              "      <td>discrimination_net</td>\n",
              "      <td>981.972819</td>\n",
              "      <td>1</td>\n",
              "      <td>981.972819</td>\n",
              "      <td>10.173994</td>\n",
              "      <td>1.882821e-03</td>\n",
              "      <td>0.089110</td>\n",
              "    </tr>\n",
              "    <tr>\n",
              "      <th>1</th>\n",
              "      <td>attention_net</td>\n",
              "      <td>13143.952146</td>\n",
              "      <td>1</td>\n",
              "      <td>13143.952146</td>\n",
              "      <td>136.181462</td>\n",
              "      <td>1.288828e-20</td>\n",
              "      <td>0.566994</td>\n",
              "    </tr>\n",
              "    <tr>\n",
              "      <th>2</th>\n",
              "      <td>discrimination_net * attention_net</td>\n",
              "      <td>482.556331</td>\n",
              "      <td>1</td>\n",
              "      <td>482.556331</td>\n",
              "      <td>4.999655</td>\n",
              "      <td>2.748843e-02</td>\n",
              "      <td>0.045869</td>\n",
              "    </tr>\n",
              "    <tr>\n",
              "      <th>3</th>\n",
              "      <td>Residual</td>\n",
              "      <td>10037.864215</td>\n",
              "      <td>104</td>\n",
              "      <td>96.517925</td>\n",
              "      <td>NaN</td>\n",
              "      <td>NaN</td>\n",
              "      <td>NaN</td>\n",
              "    </tr>\n",
              "  </tbody>\n",
              "</table>\n",
              "</div>"
            ],
            "text/plain": [
              "                               Source            SS   DF            MS  \\\n",
              "0                  discrimination_net    981.972819    1    981.972819   \n",
              "1                       attention_net  13143.952146    1  13143.952146   \n",
              "2  discrimination_net * attention_net    482.556331    1    482.556331   \n",
              "3                            Residual  10037.864215  104     96.517925   \n",
              "\n",
              "            F         p-unc       np2  \n",
              "0   10.173994  1.882821e-03  0.089110  \n",
              "1  136.181462  1.288828e-20  0.566994  \n",
              "2    4.999655  2.748843e-02  0.045869  \n",
              "3         NaN           NaN       NaN  "
            ]
          },
          "execution_count": 43,
          "metadata": {},
          "output_type": "execute_result"
        }
      ],
      "source": [
        "plot_d.anova(dv='Discrimination accuracy', between=['discrimination_net','attention_net'])"
      ]
    },
    {
      "cell_type": "markdown",
      "id": "7376f94b",
      "metadata": {
        "id": "7376f94b"
      },
      "source": [
        "### Follow up t-test #1"
      ]
    },
    {
      "cell_type": "code",
      "execution_count": null,
      "id": "c8f65752",
      "metadata": {
        "id": "c8f65752",
        "outputId": "25044268-2d7d-48d9-9274-4c898953b3ca"
      },
      "outputs": [
        {
          "data": {
            "text/plain": [
              "Ttest_indResult(statistic=2.097273974626951, pvalue=0.0383476781619169)"
            ]
          },
          "execution_count": 40,
          "metadata": {},
          "output_type": "execute_result"
        }
      ],
      "source": [
        "stats.ttest_ind(plot_d[plot_d['discrimination_net']=='Schema']['Discrimination accuracy'],\n",
        "                plot_d[plot_d['discrimination_net']=='Control']['Discrimination accuracy'])"
      ]
    },
    {
      "cell_type": "code",
      "execution_count": null,
      "id": "93970b0c",
      "metadata": {
        "id": "93970b0c",
        "outputId": "f96ee6c5-128c-4b02-935b-af89cc13bdca"
      },
      "outputs": [
        {
          "name": "stderr",
          "output_type": "stream",
          "text": [
            "/Users/kirstenziman/anaconda3/lib/python3.11/site-packages/scipy/stats/_continuous_distns.py:6832: RuntimeWarning: overflow encountered in _nct_sf\n",
            "  return np.clip(_boost._nct_sf(x, df, nc), 0, 1)\n",
            "/Users/kirstenziman/anaconda3/lib/python3.11/site-packages/scipy/stats/_continuous_distns.py:6826: RuntimeWarning: overflow encountered in _nct_cdf\n",
            "  return np.clip(_boost._nct_cdf(x, df, nc), 0, 1)\n"
          ]
        },
        {
          "data": {
            "text/html": [
              "<div>\n",
              "<style scoped>\n",
              "    .dataframe tbody tr th:only-of-type {\n",
              "        vertical-align: middle;\n",
              "    }\n",
              "\n",
              "    .dataframe tbody tr th {\n",
              "        vertical-align: top;\n",
              "    }\n",
              "\n",
              "    .dataframe thead th {\n",
              "        text-align: right;\n",
              "    }\n",
              "</style>\n",
              "<table border=\"1\" class=\"dataframe\">\n",
              "  <thead>\n",
              "    <tr style=\"text-align: right;\">\n",
              "      <th></th>\n",
              "      <th>T</th>\n",
              "      <th>dof</th>\n",
              "      <th>alternative</th>\n",
              "      <th>p-val</th>\n",
              "      <th>CI95%</th>\n",
              "      <th>cohen-d</th>\n",
              "      <th>BF10</th>\n",
              "      <th>power</th>\n",
              "    </tr>\n",
              "  </thead>\n",
              "  <tbody>\n",
              "    <tr>\n",
              "      <th>T-test</th>\n",
              "      <td>2.097274</td>\n",
              "      <td>106</td>\n",
              "      <td>two-sided</td>\n",
              "      <td>0.038348</td>\n",
              "      <td>[0.33, 11.73]</td>\n",
              "      <td>0.403621</td>\n",
              "      <td>1.429</td>\n",
              "      <td>0.547106</td>\n",
              "    </tr>\n",
              "  </tbody>\n",
              "</table>\n",
              "</div>"
            ],
            "text/plain": [
              "               T  dof alternative     p-val          CI95%   cohen-d   BF10  \\\n",
              "T-test  2.097274  106   two-sided  0.038348  [0.33, 11.73]  0.403621  1.429   \n",
              "\n",
              "           power  \n",
              "T-test  0.547106  "
            ]
          },
          "execution_count": 41,
          "metadata": {},
          "output_type": "execute_result"
        }
      ],
      "source": [
        "pg.ttest(plot_d[plot_d['discrimination_net']=='Schema']['Discrimination accuracy'],\n",
        "                plot_d[plot_d['discrimination_net']=='Control']['Discrimination accuracy'])"
      ]
    },
    {
      "cell_type": "markdown",
      "id": "cad9499e",
      "metadata": {
        "id": "cad9499e"
      },
      "source": [
        "### Follow up t-test #2"
      ]
    },
    {
      "cell_type": "code",
      "execution_count": null,
      "id": "20c37437",
      "metadata": {
        "id": "20c37437",
        "outputId": "521ac4a0-cc51-43d5-a1c6-58734cf0b4e3"
      },
      "outputs": [
        {
          "data": {
            "text/plain": [
              "Ttest_indResult(statistic=11.005804889576227, pvalue=3.021450767221695e-19)"
            ]
          },
          "execution_count": 42,
          "metadata": {},
          "output_type": "execute_result"
        }
      ],
      "source": [
        "stats.ttest_ind(plot_d[plot_d['attention_net']=='Schema']['Discrimination accuracy'],\n",
        "                plot_d[plot_d['attention_net']=='Control']['Discrimination accuracy'])"
      ]
    },
    {
      "cell_type": "code",
      "execution_count": null,
      "id": "ae088f8b",
      "metadata": {
        "id": "ae088f8b",
        "outputId": "19588e4f-4a1e-4d03-95d6-43fa9b0983c6"
      },
      "outputs": [
        {
          "data": {
            "text/plain": [
              "Ttest_indResult(statistic=11.005804889576227, pvalue=3.021450767221695e-19)"
            ]
          },
          "execution_count": 45,
          "metadata": {},
          "output_type": "execute_result"
        }
      ],
      "source": [
        "stats.ttest_ind(plot_d[plot_d['attention_net']=='Schema']['Discrimination accuracy'],\n",
        "            plot_d[plot_d['attention_net']=='Control']['Discrimination accuracy'])"
      ]
    }
  ],
  "metadata": {
    "kernelspec": {
      "display_name": "Python 3 (ipykernel)",
      "language": "python",
      "name": "python3"
    },
    "language_info": {
      "codemirror_mode": {
        "name": "ipython",
        "version": 3
      },
      "file_extension": ".py",
      "mimetype": "text/x-python",
      "name": "python",
      "nbconvert_exporter": "python",
      "pygments_lexer": "ipython3",
      "version": "3.11.5"
    },
    "colab": {
      "provenance": []
    }
  },
  "nbformat": 4,
  "nbformat_minor": 5
}