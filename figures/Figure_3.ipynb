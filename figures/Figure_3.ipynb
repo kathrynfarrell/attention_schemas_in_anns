{
  "cells": [
    {
      "cell_type": "markdown",
      "source": [
        "# Imports"
      ],
      "metadata": {
        "id": "7L44XekOz3tz"
      },
      "id": "7L44XekOz3tz"
    },
    {
      "cell_type": "code",
      "execution_count": null,
      "id": "ee99106a",
      "metadata": {
        "id": "ee99106a"
      },
      "outputs": [],
      "source": [
        "import pandas as pd\n",
        "import seaborn as sb\n",
        "from matplotlib import pyplot as plt\n",
        "from scipy.stats import shapiro, kstest, normaltest\n",
        "from scipy import stats"
      ]
    },
    {
      "cell_type": "markdown",
      "source": [
        "# Load and organize data"
      ],
      "metadata": {
        "id": "qmUbNse_z9Pi"
      },
      "id": "qmUbNse_z9Pi"
    },
    {
      "cell_type": "code",
      "execution_count": null,
      "id": "618244f2",
      "metadata": {
        "id": "618244f2",
        "outputId": "7fa251b3-5da1-4901-b677-c1602a70a094"
      },
      "outputs": [
        {
          "data": {
            "text/html": [
              "<div>\n",
              "<style scoped>\n",
              "    .dataframe tbody tr th:only-of-type {\n",
              "        vertical-align: middle;\n",
              "    }\n",
              "\n",
              "    .dataframe tbody tr th {\n",
              "        vertical-align: top;\n",
              "    }\n",
              "\n",
              "    .dataframe thead th {\n",
              "        text-align: right;\n",
              "    }\n",
              "</style>\n",
              "<table border=\"1\" class=\"dataframe\">\n",
              "  <thead>\n",
              "    <tr style=\"text-align: right;\">\n",
              "      <th></th>\n",
              "      <th>Unnamed: 0</th>\n",
              "      <th>Schema</th>\n",
              "      <th>Control</th>\n",
              "    </tr>\n",
              "  </thead>\n",
              "  <tbody>\n",
              "    <tr>\n",
              "      <th>0</th>\n",
              "      <td>0</td>\n",
              "      <td>66.983696</td>\n",
              "      <td>68.478261</td>\n",
              "    </tr>\n",
              "    <tr>\n",
              "      <th>1</th>\n",
              "      <td>1</td>\n",
              "      <td>69.021739</td>\n",
              "      <td>65.760870</td>\n",
              "    </tr>\n",
              "  </tbody>\n",
              "</table>\n",
              "</div>"
            ],
            "text/plain": [
              "   Unnamed: 0     Schema    Control\n",
              "0           0  66.983696  68.478261\n",
              "1           1  69.021739  65.760870"
            ]
          },
          "execution_count": 2,
          "metadata": {},
          "output_type": "execute_result"
        }
      ],
      "source": [
        "three_a = pd.read_csv('../csv/fig3a_generalimage.csv')\n",
        "three_b = pd.read_csv('../csv/fig3b_imagetransfer.csv')\n",
        "\n",
        "three_b.head(n=2)"
      ]
    },
    {
      "cell_type": "code",
      "execution_count": null,
      "id": "737e7ffe",
      "metadata": {
        "id": "737e7ffe",
        "outputId": "48fe1528-4fc7-48d3-aee7-27fe7f05b8ed"
      },
      "outputs": [
        {
          "data": {
            "text/html": [
              "<div>\n",
              "<style scoped>\n",
              "    .dataframe tbody tr th:only-of-type {\n",
              "        vertical-align: middle;\n",
              "    }\n",
              "\n",
              "    .dataframe tbody tr th {\n",
              "        vertical-align: top;\n",
              "    }\n",
              "\n",
              "    .dataframe thead th {\n",
              "        text-align: right;\n",
              "    }\n",
              "</style>\n",
              "<table border=\"1\" class=\"dataframe\">\n",
              "  <thead>\n",
              "    <tr style=\"text-align: right;\">\n",
              "      <th></th>\n",
              "      <th>Accuracy</th>\n",
              "      <th>Network type</th>\n",
              "    </tr>\n",
              "  </thead>\n",
              "  <tbody>\n",
              "    <tr>\n",
              "      <th>0</th>\n",
              "      <td>90.896739</td>\n",
              "      <td>Schema</td>\n",
              "    </tr>\n",
              "    <tr>\n",
              "      <th>1</th>\n",
              "      <td>83.831522</td>\n",
              "      <td>Schema</td>\n",
              "    </tr>\n",
              "    <tr>\n",
              "      <th>2</th>\n",
              "      <td>85.326087</td>\n",
              "      <td>Schema</td>\n",
              "    </tr>\n",
              "  </tbody>\n",
              "</table>\n",
              "</div>"
            ],
            "text/plain": [
              "    Accuracy Network type\n",
              "0  90.896739       Schema\n",
              "1  83.831522       Schema\n",
              "2  85.326087       Schema"
            ]
          },
          "execution_count": 3,
          "metadata": {},
          "output_type": "execute_result"
        }
      ],
      "source": [
        "df_a = pd.DataFrame({'Accuracy':three_a['Schema']})\n",
        "df_a['Network type'] = 'Schema'\n",
        "\n",
        "df_b = pd.DataFrame({'Accuracy':three_a['Control']})\n",
        "df_b['Network type'] = 'Control'\n",
        "\n",
        "new_a = pd.concat([df_a, df_b])\n",
        "new_a.head(n=3)"
      ]
    },
    {
      "cell_type": "code",
      "execution_count": null,
      "id": "8b9e75e2",
      "metadata": {
        "id": "8b9e75e2",
        "outputId": "e4831ccb-e05f-45fb-c1b2-5670b9fd5aec"
      },
      "outputs": [
        {
          "data": {
            "text/html": [
              "<div>\n",
              "<style scoped>\n",
              "    .dataframe tbody tr th:only-of-type {\n",
              "        vertical-align: middle;\n",
              "    }\n",
              "\n",
              "    .dataframe tbody tr th {\n",
              "        vertical-align: top;\n",
              "    }\n",
              "\n",
              "    .dataframe thead th {\n",
              "        text-align: right;\n",
              "    }\n",
              "</style>\n",
              "<table border=\"1\" class=\"dataframe\">\n",
              "  <thead>\n",
              "    <tr style=\"text-align: right;\">\n",
              "      <th></th>\n",
              "      <th>Accuracy</th>\n",
              "      <th>Network type</th>\n",
              "    </tr>\n",
              "  </thead>\n",
              "  <tbody>\n",
              "    <tr>\n",
              "      <th>0</th>\n",
              "      <td>66.983696</td>\n",
              "      <td>Schema</td>\n",
              "    </tr>\n",
              "    <tr>\n",
              "      <th>1</th>\n",
              "      <td>69.021739</td>\n",
              "      <td>Schema</td>\n",
              "    </tr>\n",
              "    <tr>\n",
              "      <th>2</th>\n",
              "      <td>72.826087</td>\n",
              "      <td>Schema</td>\n",
              "    </tr>\n",
              "  </tbody>\n",
              "</table>\n",
              "</div>"
            ],
            "text/plain": [
              "    Accuracy Network type\n",
              "0  66.983696       Schema\n",
              "1  69.021739       Schema\n",
              "2  72.826087       Schema"
            ]
          },
          "execution_count": 4,
          "metadata": {},
          "output_type": "execute_result"
        }
      ],
      "source": [
        "df_a = pd.DataFrame({'Accuracy':three_b['Schema']})\n",
        "df_a['Network type'] = 'Schema'\n",
        "\n",
        "df_b = pd.DataFrame({'Accuracy':three_b['Control']})\n",
        "df_b['Network type'] = 'Control'\n",
        "\n",
        "new_b = pd.concat([df_a, df_b])\n",
        "new_b.head(n=3)"
      ]
    },
    {
      "cell_type": "code",
      "execution_count": null,
      "id": "555ca551",
      "metadata": {
        "id": "555ca551"
      },
      "outputs": [],
      "source": [
        "new_a['Learning'] = 'Direct learning'\n",
        "new_b['Learning'] = 'Transfer learning'\n",
        "\n",
        "new_combined = pd.concat([new_a, new_b])"
      ]
    },
    {
      "cell_type": "code",
      "execution_count": null,
      "id": "7a764818",
      "metadata": {
        "id": "7a764818",
        "outputId": "cc8234b7-104b-4d36-9bae-d7cbbf183fae"
      },
      "outputs": [
        {
          "data": {
            "text/html": [
              "<div>\n",
              "<style scoped>\n",
              "    .dataframe tbody tr th:only-of-type {\n",
              "        vertical-align: middle;\n",
              "    }\n",
              "\n",
              "    .dataframe tbody tr th {\n",
              "        vertical-align: top;\n",
              "    }\n",
              "\n",
              "    .dataframe thead th {\n",
              "        text-align: right;\n",
              "    }\n",
              "</style>\n",
              "<table border=\"1\" class=\"dataframe\">\n",
              "  <thead>\n",
              "    <tr style=\"text-align: right;\">\n",
              "      <th></th>\n",
              "      <th>Accuracy</th>\n",
              "      <th>Network type</th>\n",
              "      <th>Learning</th>\n",
              "    </tr>\n",
              "  </thead>\n",
              "  <tbody>\n",
              "    <tr>\n",
              "      <th>0</th>\n",
              "      <td>90.896739</td>\n",
              "      <td>Schema</td>\n",
              "      <td>Direct learning</td>\n",
              "    </tr>\n",
              "    <tr>\n",
              "      <th>1</th>\n",
              "      <td>83.831522</td>\n",
              "      <td>Schema</td>\n",
              "      <td>Direct learning</td>\n",
              "    </tr>\n",
              "  </tbody>\n",
              "</table>\n",
              "</div>"
            ],
            "text/plain": [
              "    Accuracy Network type         Learning\n",
              "0  90.896739       Schema  Direct learning\n",
              "1  83.831522       Schema  Direct learning"
            ]
          },
          "execution_count": 6,
          "metadata": {},
          "output_type": "execute_result"
        }
      ],
      "source": [
        "new_combined.head(n=2)"
      ]
    },
    {
      "cell_type": "markdown",
      "source": [
        "# Plot the data"
      ],
      "metadata": {
        "id": "7U8YaA8vzv1x"
      },
      "id": "7U8YaA8vzv1x"
    },
    {
      "cell_type": "code",
      "execution_count": null,
      "id": "47acb072",
      "metadata": {
        "scrolled": false,
        "id": "47acb072",
        "outputId": "d9b6fee2-e78b-4de8-bb6f-99ce5c849967"
      },
      "outputs": [
        {
          "data": {
            "image/png": "[encoded data removed]",
            "text/plain": [
              "<Figure size 640x480 with 1 Axes>"
            ]
          },
          "metadata": {},
          "output_type": "display_data"
        }
      ],
      "source": [
        "sb.set(font_scale=2)\n",
        "sb.set_style(\"white\")\n",
        "\n",
        "ax = sb.barplot(data=new_combined, x='Learning', y='Accuracy', hue='Network type', palette='Purples_r')\n",
        "ax.set_ylim(0,100)\n",
        "ax.set_yticks([0,50,100])\n",
        "#ax.set_xlabel(' ')\n",
        "\n",
        "sb.move_legend(ax, \"upper left\", bbox_to_anchor=(1, 1.045))\n",
        "\n",
        "plt.hlines(y=50, xmin=-.5, xmax=1.5, linestyle='--', color='k', linewidth=4)"
      ]
    },
    {
      "cell_type": "markdown",
      "id": "c1b9f7b5",
      "metadata": {
        "id": "c1b9f7b5"
      },
      "source": [
        "# T-tests"
      ]
    },
    {
      "cell_type": "code",
      "execution_count": null,
      "id": "f5cf4700",
      "metadata": {
        "id": "f5cf4700"
      },
      "outputs": [],
      "source": [
        "import pingouin as pg"
      ]
    },
    {
      "cell_type": "code",
      "execution_count": null,
      "id": "91eea414",
      "metadata": {
        "id": "91eea414"
      },
      "outputs": [],
      "source": [
        "print(stats.ttest_ind(\n",
        "    new_combined[(new_combined['Learning']=='Direct learning')&(new_combined['Network type']=='Schema')]['Accuracy'],\n",
        "    new_combined[(new_combined['Learning']=='Direct learning')&(new_combined['Network type']=='Control')]['Accuracy'],\n",
        "\n",
        "))\n",
        "\n",
        "\n",
        "pg.ttest(\n",
        "    new_combined[(new_combined['Learning']=='Direct learning')&(new_combined['Network type']=='Schema')]['Accuracy'],\n",
        "    new_combined[(new_combined['Learning']=='Direct learning')&(new_combined['Network type']=='Control')]['Accuracy']\n",
        "    )"
      ]
    },
    {
      "cell_type": "code",
      "execution_count": null,
      "id": "08869380",
      "metadata": {
        "id": "08869380"
      },
      "outputs": [],
      "source": [
        "print(stats.ttest_ind(\n",
        "    new_combined[(new_combined['Learning']=='Transfer learning')&(new_combined['Network type']=='Schema')]['Accuracy'],\n",
        "    new_combined[(new_combined['Learning']=='Transfer learning')&(new_combined['Network type']=='Control')]['Accuracy'],\n",
        "\n",
        "))\n",
        "\n",
        "\n",
        "pg.ttest(\n",
        "    new_combined[(new_combined['Learning']=='Transfer learning')&(new_combined['Network type']=='Schema')]['Accuracy'],\n",
        "    new_combined[(new_combined['Learning']=='Transfer learning')&(new_combined['Network type']=='Control')]['Accuracy']\n",
        "    )"
      ]
    }
  ],
  "metadata": {
    "kernelspec": {
      "display_name": "Python 3 (ipykernel)",
      "language": "python",
      "name": "python3"
    },
    "language_info": {
      "codemirror_mode": {
        "name": "ipython",
        "version": 3
      },
      "file_extension": ".py",
      "mimetype": "text/x-python",
      "name": "python",
      "nbconvert_exporter": "python",
      "pygments_lexer": "ipython3",
      "version": "3.11.5"
    },
    "colab": {
      "provenance": []
    }
  },
  "nbformat": 4,
  "nbformat_minor": 5
}